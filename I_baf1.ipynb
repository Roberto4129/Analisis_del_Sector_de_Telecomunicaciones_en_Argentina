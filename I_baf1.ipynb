{
 "cells": [
  {
   "cell_type": "code",
   "execution_count": 4,
   "metadata": {},
   "outputs": [],
   "source": [
    "import pandas as pd\n",
    "import matplotlib.pyplot as plt\n",
    "import seaborn as sns\n",
    "import numpy as np\n",
    "from ydata_profiling import ProfileReport"
   ]
  },
  {
   "attachments": {},
   "cell_type": "markdown",
   "metadata": {},
   "source": [
    "I__baf1.ipynb\n",
    "\n",
    "Total nacional de accesos a Internet fijo por banda ancha y banda angosta\n",
    "\n",
    "Número total de accesos al servicio de Internet fijo por banda ancha y banda angosta (trimestral)"
   ]
  },
  {
   "attachments": {},
   "cell_type": "markdown",
   "metadata": {},
   "source": [
    "Visualizar dataframe"
   ]
  },
  {
   "cell_type": "code",
   "execution_count": 5,
   "metadata": {},
   "outputs": [
    {
     "data": {
      "text/html": [
       "<div>\n",
       "<style scoped>\n",
       "    .dataframe tbody tr th:only-of-type {\n",
       "        vertical-align: middle;\n",
       "    }\n",
       "\n",
       "    .dataframe tbody tr th {\n",
       "        vertical-align: top;\n",
       "    }\n",
       "\n",
       "    .dataframe thead th {\n",
       "        text-align: right;\n",
       "    }\n",
       "</style>\n",
       "<table border=\"1\" class=\"dataframe\">\n",
       "  <thead>\n",
       "    <tr style=\"text-align: right;\">\n",
       "      <th></th>\n",
       "      <th>Año</th>\n",
       "      <th>Trimestre</th>\n",
       "      <th>Banda ancha fija</th>\n",
       "      <th>Dial up</th>\n",
       "      <th>Total</th>\n",
       "      <th>Periodo</th>\n",
       "    </tr>\n",
       "  </thead>\n",
       "  <tbody>\n",
       "    <tr>\n",
       "      <th>0</th>\n",
       "      <td>2022</td>\n",
       "      <td>3</td>\n",
       "      <td>11.078.691</td>\n",
       "      <td>12.437</td>\n",
       "      <td>11.091.128</td>\n",
       "      <td>Jul-Sept 2022</td>\n",
       "    </tr>\n",
       "    <tr>\n",
       "      <th>1</th>\n",
       "      <td>2022</td>\n",
       "      <td>2</td>\n",
       "      <td>10.946.248</td>\n",
       "      <td>12.436</td>\n",
       "      <td>10.958.684</td>\n",
       "      <td>Abr-Jun 2022</td>\n",
       "    </tr>\n",
       "    <tr>\n",
       "      <th>2</th>\n",
       "      <td>2022</td>\n",
       "      <td>1</td>\n",
       "      <td>10.611.390</td>\n",
       "      <td>12.619</td>\n",
       "      <td>10.624.009</td>\n",
       "      <td>Ene-Mar 2022</td>\n",
       "    </tr>\n",
       "    <tr>\n",
       "      <th>3</th>\n",
       "      <td>2021</td>\n",
       "      <td>4</td>\n",
       "      <td>10.476.933</td>\n",
       "      <td>12.861</td>\n",
       "      <td>10.489.794</td>\n",
       "      <td>Oct-Dic 2021</td>\n",
       "    </tr>\n",
       "    <tr>\n",
       "      <th>4</th>\n",
       "      <td>2021</td>\n",
       "      <td>3</td>\n",
       "      <td>10.075.184</td>\n",
       "      <td>10.357</td>\n",
       "      <td>10.085.541</td>\n",
       "      <td>Jul-Sept 2021</td>\n",
       "    </tr>\n",
       "    <tr>\n",
       "      <th>5</th>\n",
       "      <td>2021</td>\n",
       "      <td>2</td>\n",
       "      <td>9.852.702</td>\n",
       "      <td>10.382</td>\n",
       "      <td>9.863.084</td>\n",
       "      <td>Abr-Jun 2021</td>\n",
       "    </tr>\n",
       "    <tr>\n",
       "      <th>6</th>\n",
       "      <td>2021</td>\n",
       "      <td>1</td>\n",
       "      <td>9.637.956</td>\n",
       "      <td>10.016</td>\n",
       "      <td>9.647.972</td>\n",
       "      <td>Ene-Mar 2021</td>\n",
       "    </tr>\n",
       "    <tr>\n",
       "      <th>7</th>\n",
       "      <td>2020</td>\n",
       "      <td>4</td>\n",
       "      <td>9.561.546</td>\n",
       "      <td>10.016</td>\n",
       "      <td>9.571.562</td>\n",
       "      <td>Oct-Dic 2020</td>\n",
       "    </tr>\n",
       "    <tr>\n",
       "      <th>8</th>\n",
       "      <td>2020</td>\n",
       "      <td>3</td>\n",
       "      <td>9.346.183</td>\n",
       "      <td>10.016</td>\n",
       "      <td>9.356.199</td>\n",
       "      <td>Jul-Sept 2020</td>\n",
       "    </tr>\n",
       "    <tr>\n",
       "      <th>9</th>\n",
       "      <td>2020</td>\n",
       "      <td>2</td>\n",
       "      <td>9.021.040</td>\n",
       "      <td>10.016</td>\n",
       "      <td>9.031.056</td>\n",
       "      <td>Abr-Jun 2020</td>\n",
       "    </tr>\n",
       "    <tr>\n",
       "      <th>10</th>\n",
       "      <td>2020</td>\n",
       "      <td>1</td>\n",
       "      <td>8.802.435</td>\n",
       "      <td>9.991</td>\n",
       "      <td>8.812.426</td>\n",
       "      <td>Ene-Mar 2020</td>\n",
       "    </tr>\n",
       "    <tr>\n",
       "      <th>11</th>\n",
       "      <td>2019</td>\n",
       "      <td>4</td>\n",
       "      <td>8.783.053</td>\n",
       "      <td>10.128</td>\n",
       "      <td>8.793.181</td>\n",
       "      <td>Oct-Dic 2019</td>\n",
       "    </tr>\n",
       "    <tr>\n",
       "      <th>12</th>\n",
       "      <td>2019</td>\n",
       "      <td>3</td>\n",
       "      <td>9.142.891</td>\n",
       "      <td>21.793</td>\n",
       "      <td>9.164.684</td>\n",
       "      <td>Jul-Sept 2019</td>\n",
       "    </tr>\n",
       "    <tr>\n",
       "      <th>13</th>\n",
       "      <td>2019</td>\n",
       "      <td>2</td>\n",
       "      <td>8.938.427</td>\n",
       "      <td>21.754</td>\n",
       "      <td>8.960.181</td>\n",
       "      <td>Abr-Jun 2019</td>\n",
       "    </tr>\n",
       "    <tr>\n",
       "      <th>14</th>\n",
       "      <td>2019</td>\n",
       "      <td>1</td>\n",
       "      <td>8.626.323</td>\n",
       "      <td>21.812</td>\n",
       "      <td>8.648.135</td>\n",
       "      <td>Ene-Mar 2019</td>\n",
       "    </tr>\n",
       "    <tr>\n",
       "      <th>15</th>\n",
       "      <td>2018</td>\n",
       "      <td>4</td>\n",
       "      <td>8.451.841</td>\n",
       "      <td>21.814</td>\n",
       "      <td>8.473.655</td>\n",
       "      <td>Oct-Dic 2018</td>\n",
       "    </tr>\n",
       "    <tr>\n",
       "      <th>16</th>\n",
       "      <td>2018</td>\n",
       "      <td>3</td>\n",
       "      <td>8.320.223</td>\n",
       "      <td>26.812</td>\n",
       "      <td>8.347.035</td>\n",
       "      <td>Jul-Sept 2018</td>\n",
       "    </tr>\n",
       "    <tr>\n",
       "      <th>17</th>\n",
       "      <td>2018</td>\n",
       "      <td>2</td>\n",
       "      <td>8.083.533</td>\n",
       "      <td>26.911</td>\n",
       "      <td>8.110.444</td>\n",
       "      <td>Abr-Jun 2018</td>\n",
       "    </tr>\n",
       "    <tr>\n",
       "      <th>18</th>\n",
       "      <td>2018</td>\n",
       "      <td>1</td>\n",
       "      <td>8.009.981</td>\n",
       "      <td>27.072</td>\n",
       "      <td>8.037.053</td>\n",
       "      <td>Ene-Mar 2018</td>\n",
       "    </tr>\n",
       "    <tr>\n",
       "      <th>19</th>\n",
       "      <td>2017</td>\n",
       "      <td>4</td>\n",
       "      <td>7.842.778</td>\n",
       "      <td>27.444</td>\n",
       "      <td>7.870.222</td>\n",
       "      <td>Oct-Dic 2017</td>\n",
       "    </tr>\n",
       "    <tr>\n",
       "      <th>20</th>\n",
       "      <td>2017</td>\n",
       "      <td>3</td>\n",
       "      <td>7.696.594</td>\n",
       "      <td>28.349</td>\n",
       "      <td>7.724.943</td>\n",
       "      <td>Jul-Sept 2017</td>\n",
       "    </tr>\n",
       "    <tr>\n",
       "      <th>21</th>\n",
       "      <td>2017</td>\n",
       "      <td>2</td>\n",
       "      <td>7.401.134</td>\n",
       "      <td>28.530</td>\n",
       "      <td>7.429.664</td>\n",
       "      <td>Abr-Jun 2017</td>\n",
       "    </tr>\n",
       "    <tr>\n",
       "      <th>22</th>\n",
       "      <td>2017</td>\n",
       "      <td>1</td>\n",
       "      <td>7.277.314</td>\n",
       "      <td>28.540</td>\n",
       "      <td>7.305.854</td>\n",
       "      <td>Ene-Mar 2017</td>\n",
       "    </tr>\n",
       "    <tr>\n",
       "      <th>23</th>\n",
       "      <td>2016</td>\n",
       "      <td>4</td>\n",
       "      <td>7.223.128</td>\n",
       "      <td>28.545</td>\n",
       "      <td>7.251.673</td>\n",
       "      <td>Oct-Dic 2016</td>\n",
       "    </tr>\n",
       "    <tr>\n",
       "      <th>24</th>\n",
       "      <td>2016</td>\n",
       "      <td>3</td>\n",
       "      <td>7.178.340</td>\n",
       "      <td>28.610</td>\n",
       "      <td>7.206.950</td>\n",
       "      <td>Jul-Sept 2016</td>\n",
       "    </tr>\n",
       "    <tr>\n",
       "      <th>25</th>\n",
       "      <td>2016</td>\n",
       "      <td>2</td>\n",
       "      <td>7.097.604</td>\n",
       "      <td>32.475</td>\n",
       "      <td>7.130.079</td>\n",
       "      <td>Abr-Jun 2016</td>\n",
       "    </tr>\n",
       "    <tr>\n",
       "      <th>26</th>\n",
       "      <td>2016</td>\n",
       "      <td>1</td>\n",
       "      <td>6.874.704</td>\n",
       "      <td>32.652</td>\n",
       "      <td>6.907.356</td>\n",
       "      <td>Ene-Mar 2016</td>\n",
       "    </tr>\n",
       "    <tr>\n",
       "      <th>27</th>\n",
       "      <td>2015</td>\n",
       "      <td>4</td>\n",
       "      <td>6.952.289</td>\n",
       "      <td>32.542</td>\n",
       "      <td>6.984.831</td>\n",
       "      <td>Oct-Dic 2015</td>\n",
       "    </tr>\n",
       "    <tr>\n",
       "      <th>28</th>\n",
       "      <td>2015</td>\n",
       "      <td>3</td>\n",
       "      <td>6.902.267</td>\n",
       "      <td>32.801</td>\n",
       "      <td>6.935.068</td>\n",
       "      <td>Jul-Sept 2015</td>\n",
       "    </tr>\n",
       "    <tr>\n",
       "      <th>29</th>\n",
       "      <td>2015</td>\n",
       "      <td>2</td>\n",
       "      <td>6.783.279</td>\n",
       "      <td>32.909</td>\n",
       "      <td>6.816.188</td>\n",
       "      <td>Abr-Jun 2015</td>\n",
       "    </tr>\n",
       "    <tr>\n",
       "      <th>30</th>\n",
       "      <td>2015</td>\n",
       "      <td>1</td>\n",
       "      <td>6.699.714</td>\n",
       "      <td>38.018</td>\n",
       "      <td>6.737.732</td>\n",
       "      <td>Ene-Mar 2015</td>\n",
       "    </tr>\n",
       "    <tr>\n",
       "      <th>31</th>\n",
       "      <td>2014</td>\n",
       "      <td>4</td>\n",
       "      <td>6.559.172</td>\n",
       "      <td>39.324</td>\n",
       "      <td>6.598.496</td>\n",
       "      <td>Oct-Dic 2014</td>\n",
       "    </tr>\n",
       "    <tr>\n",
       "      <th>32</th>\n",
       "      <td>2014</td>\n",
       "      <td>3</td>\n",
       "      <td>6.559.264</td>\n",
       "      <td>36.007</td>\n",
       "      <td>6.595.271</td>\n",
       "      <td>Jul-Sept 2014</td>\n",
       "    </tr>\n",
       "    <tr>\n",
       "      <th>33</th>\n",
       "      <td>2014</td>\n",
       "      <td>2</td>\n",
       "      <td>6.428.329</td>\n",
       "      <td>36.139</td>\n",
       "      <td>6.464.468</td>\n",
       "      <td>Abr-Jun 2014</td>\n",
       "    </tr>\n",
       "    <tr>\n",
       "      <th>34</th>\n",
       "      <td>2014</td>\n",
       "      <td>1</td>\n",
       "      <td>6.362.108</td>\n",
       "      <td>36.290</td>\n",
       "      <td>6.398.398</td>\n",
       "      <td>Ene-Mar 2014</td>\n",
       "    </tr>\n",
       "  </tbody>\n",
       "</table>\n",
       "</div>"
      ],
      "text/plain": [
       "     Año  Trimestre Banda ancha fija  Dial up       Total        Periodo\n",
       "0   2022          3       11.078.691   12.437  11.091.128  Jul-Sept 2022\n",
       "1   2022          2       10.946.248   12.436  10.958.684   Abr-Jun 2022\n",
       "2   2022          1       10.611.390   12.619  10.624.009   Ene-Mar 2022\n",
       "3   2021          4       10.476.933   12.861  10.489.794   Oct-Dic 2021\n",
       "4   2021          3       10.075.184   10.357  10.085.541  Jul-Sept 2021\n",
       "5   2021          2        9.852.702   10.382   9.863.084   Abr-Jun 2021\n",
       "6   2021          1        9.637.956   10.016   9.647.972   Ene-Mar 2021\n",
       "7   2020          4        9.561.546   10.016   9.571.562   Oct-Dic 2020\n",
       "8   2020          3        9.346.183   10.016   9.356.199  Jul-Sept 2020\n",
       "9   2020          2        9.021.040   10.016   9.031.056   Abr-Jun 2020\n",
       "10  2020          1        8.802.435    9.991   8.812.426   Ene-Mar 2020\n",
       "11  2019          4        8.783.053   10.128   8.793.181   Oct-Dic 2019\n",
       "12  2019          3        9.142.891   21.793   9.164.684  Jul-Sept 2019\n",
       "13  2019          2        8.938.427   21.754   8.960.181   Abr-Jun 2019\n",
       "14  2019          1        8.626.323   21.812   8.648.135   Ene-Mar 2019\n",
       "15  2018          4        8.451.841   21.814   8.473.655   Oct-Dic 2018\n",
       "16  2018          3        8.320.223   26.812   8.347.035  Jul-Sept 2018\n",
       "17  2018          2        8.083.533   26.911   8.110.444   Abr-Jun 2018\n",
       "18  2018          1        8.009.981   27.072   8.037.053   Ene-Mar 2018\n",
       "19  2017          4        7.842.778   27.444   7.870.222   Oct-Dic 2017\n",
       "20  2017          3        7.696.594   28.349   7.724.943  Jul-Sept 2017\n",
       "21  2017          2        7.401.134   28.530   7.429.664   Abr-Jun 2017\n",
       "22  2017          1        7.277.314   28.540   7.305.854   Ene-Mar 2017\n",
       "23  2016          4        7.223.128   28.545   7.251.673   Oct-Dic 2016\n",
       "24  2016          3        7.178.340   28.610   7.206.950  Jul-Sept 2016\n",
       "25  2016          2        7.097.604   32.475   7.130.079   Abr-Jun 2016\n",
       "26  2016          1        6.874.704   32.652   6.907.356   Ene-Mar 2016\n",
       "27  2015          4        6.952.289   32.542   6.984.831   Oct-Dic 2015\n",
       "28  2015          3        6.902.267   32.801   6.935.068  Jul-Sept 2015\n",
       "29  2015          2        6.783.279   32.909   6.816.188   Abr-Jun 2015\n",
       "30  2015          1        6.699.714   38.018   6.737.732   Ene-Mar 2015\n",
       "31  2014          4        6.559.172   39.324   6.598.496   Oct-Dic 2014\n",
       "32  2014          3        6.559.264   36.007   6.595.271  Jul-Sept 2014\n",
       "33  2014          2        6.428.329   36.139   6.464.468   Abr-Jun 2014\n",
       "34  2014          1        6.362.108   36.290   6.398.398   Ene-Mar 2014"
      ]
     },
     "execution_count": 5,
     "metadata": {},
     "output_type": "execute_result"
    }
   ],
   "source": [
    "df = pd.read_csv(\"data_original\\Internet_BAF (1).csv\")\n",
    "df"
   ]
  },
  {
   "cell_type": "code",
   "execution_count": 21,
   "metadata": {},
   "outputs": [
    {
     "name": "stdout",
     "output_type": "stream",
     "text": [
      "<class 'pandas.core.frame.DataFrame'>\n",
      "RangeIndex: 35 entries, 0 to 34\n",
      "Data columns (total 6 columns):\n",
      " #   Column            Non-Null Count  Dtype  \n",
      "---  ------            --------------  -----  \n",
      " 0   Año               35 non-null     int64  \n",
      " 1   Trimestre         35 non-null     int64  \n",
      " 2   Banda ancha fija  35 non-null     object \n",
      " 3   Dial up           35 non-null     float64\n",
      " 4   Total             35 non-null     object \n",
      " 5   Periodo           35 non-null     object \n",
      "dtypes: float64(1), int64(2), object(3)\n",
      "memory usage: 1.8+ KB\n"
     ]
    }
   ],
   "source": [
    "df.info()#visualizar cantidad de columnas, filas tipo de datos"
   ]
  },
  {
   "attachments": {},
   "cell_type": "markdown",
   "metadata": {},
   "source": [
    "cambio de tipo de dato en las columnas, para poder trabajar "
   ]
  },
  {
   "cell_type": "code",
   "execution_count": 18,
   "metadata": {},
   "outputs": [],
   "source": [
    "# Remover los puntos de la columna \n",
    "df['Banda ancha fija'] = df['Banda ancha fija'].str.replace('.', '')\n",
    "df['Total'] = df['Total'].str.replace('.', '')\n"
   ]
  },
  {
   "cell_type": "code",
   "execution_count": 19,
   "metadata": {},
   "outputs": [],
   "source": [
    "\n",
    "# cambios de tipo de datos de columna\n",
    "df['Banda ancha fija'] = df['Banda ancha fija'].astype(float)\n",
    "df['Total'] = df['Total'].astype(float)\n",
    "df['Trimestre'] = df['Trimestre'].astype('category')\n",
    "df['Año'] = df['Año'].astype('str')"
   ]
  },
  {
   "cell_type": "code",
   "execution_count": 20,
   "metadata": {},
   "outputs": [
    {
     "data": {
      "text/html": [
       "<div>\n",
       "<style scoped>\n",
       "    .dataframe tbody tr th:only-of-type {\n",
       "        vertical-align: middle;\n",
       "    }\n",
       "\n",
       "    .dataframe tbody tr th {\n",
       "        vertical-align: top;\n",
       "    }\n",
       "\n",
       "    .dataframe thead th {\n",
       "        text-align: right;\n",
       "    }\n",
       "</style>\n",
       "<table border=\"1\" class=\"dataframe\">\n",
       "  <thead>\n",
       "    <tr style=\"text-align: right;\">\n",
       "      <th></th>\n",
       "      <th>Banda ancha fija</th>\n",
       "      <th>Dial up</th>\n",
       "      <th>Total</th>\n",
       "    </tr>\n",
       "  </thead>\n",
       "  <tbody>\n",
       "    <tr>\n",
       "      <th>count</th>\n",
       "      <td>3.500000e+01</td>\n",
       "      <td>35.000000</td>\n",
       "      <td>3.500000e+01</td>\n",
       "    </tr>\n",
       "    <tr>\n",
       "      <th>mean</th>\n",
       "      <td>8.274417e+06</td>\n",
       "      <td>23.383371</td>\n",
       "      <td>8.297800e+06</td>\n",
       "    </tr>\n",
       "    <tr>\n",
       "      <th>std</th>\n",
       "      <td>1.408774e+06</td>\n",
       "      <td>10.087397</td>\n",
       "      <td>1.399611e+06</td>\n",
       "    </tr>\n",
       "    <tr>\n",
       "      <th>min</th>\n",
       "      <td>6.362108e+06</td>\n",
       "      <td>9.991000</td>\n",
       "      <td>6.398398e+06</td>\n",
       "    </tr>\n",
       "    <tr>\n",
       "      <th>25%</th>\n",
       "      <td>7.024946e+06</td>\n",
       "      <td>12.436500</td>\n",
       "      <td>7.057455e+06</td>\n",
       "    </tr>\n",
       "    <tr>\n",
       "      <th>50%</th>\n",
       "      <td>8.083533e+06</td>\n",
       "      <td>26.911000</td>\n",
       "      <td>8.110444e+06</td>\n",
       "    </tr>\n",
       "    <tr>\n",
       "      <th>75%</th>\n",
       "      <td>9.244537e+06</td>\n",
       "      <td>32.508500</td>\n",
       "      <td>9.260442e+06</td>\n",
       "    </tr>\n",
       "    <tr>\n",
       "      <th>max</th>\n",
       "      <td>1.107869e+07</td>\n",
       "      <td>39.324000</td>\n",
       "      <td>1.109113e+07</td>\n",
       "    </tr>\n",
       "  </tbody>\n",
       "</table>\n",
       "</div>"
      ],
      "text/plain": [
       "       Banda ancha fija    Dial up         Total\n",
       "count      3.500000e+01  35.000000  3.500000e+01\n",
       "mean       8.274417e+06  23.383371  8.297800e+06\n",
       "std        1.408774e+06  10.087397  1.399611e+06\n",
       "min        6.362108e+06   9.991000  6.398398e+06\n",
       "25%        7.024946e+06  12.436500  7.057455e+06\n",
       "50%        8.083533e+06  26.911000  8.110444e+06\n",
       "75%        9.244537e+06  32.508500  9.260442e+06\n",
       "max        1.107869e+07  39.324000  1.109113e+07"
      ]
     },
     "execution_count": 20,
     "metadata": {},
     "output_type": "execute_result"
    }
   ],
   "source": [
    "df.describe()#resumen estadistico "
   ]
  },
  {
   "cell_type": "code",
   "execution_count": 27,
   "metadata": {},
   "outputs": [
    {
     "name": "stdout",
     "output_type": "stream",
     "text": [
      "<class 'pandas.core.frame.DataFrame'>\n",
      "RangeIndex: 35 entries, 0 to 34\n",
      "Data columns (total 6 columns):\n",
      " #   Column            Non-Null Count  Dtype   \n",
      "---  ------            --------------  -----   \n",
      " 0   Año               35 non-null     object  \n",
      " 1   Trimestre         35 non-null     category\n",
      " 2   Banda ancha fija  35 non-null     float64 \n",
      " 3   Dial up           35 non-null     float64 \n",
      " 4   Total             35 non-null     float64 \n",
      " 5   Periodo           35 non-null     object  \n",
      "dtypes: category(1), float64(3), object(2)\n",
      "memory usage: 1.7+ KB\n"
     ]
    }
   ],
   "source": [
    "df.info()"
   ]
  },
  {
   "attachments": {},
   "cell_type": "markdown",
   "metadata": {},
   "source": [
    " analizamos la distribución del df, buscando posibles valores atípicos"
   ]
  },
  {
   "cell_type": "code",
   "execution_count": 9,
   "metadata": {},
   "outputs": [
    {
     "data": {
      "image/png": "[encoded data removed]",
      "text/plain": [
       "<Figure size 2000x700 with 2 Axes>"
      ]
     },
     "metadata": {},
     "output_type": "display_data"
    }
   ],
   "source": [
    "\n",
    "fig=plt.figure(figsize=(20,7))\n",
    "\n",
    "ax1=fig.add_subplot(131)\n",
    "ax2=fig.add_subplot(132)\n",
    "\n",
    "sns.boxplot(data=df,y='Banda ancha fija',ax=ax1);\n",
    "sns.boxplot(data=df,y='Dial up',ax=ax2);"
   ]
  },
  {
   "attachments": {},
   "cell_type": "markdown",
   "metadata": {},
   "source": [
    "_Banda ancha  el 75 % esta alrededor de 900.000, mediana esta alrededor de 8.000\n",
    "\n",
    "_Dial up el 100% llega alrededor de 39.000 mediana esta alrededor de 23.000\n",
    "\n",
    "_No se obesrvan valores extremos"
   ]
  },
  {
   "attachments": {},
   "cell_type": "markdown",
   "metadata": {},
   "source": [
    "diagrama de dispersión (usando ) con histogramas marginales"
   ]
  },
  {
   "cell_type": "code",
   "execution_count": 30,
   "metadata": {},
   "outputs": [
    {
     "name": "stderr",
     "output_type": "stream",
     "text": [
      "c:\\Users\\ROG BY NG\\AppData\\Local\\Programs\\Python\\Python311\\Lib\\site-packages\\seaborn\\axisgrid.py:2214: UserWarning: The marginal plotting function has changed to `histplot`, which does not accept the following argument(s): rug.\n",
      "  warnings.warn(msg, UserWarning)\n"
     ]
    },
    {
     "data": {
      "text/plain": [
       "<seaborn.axisgrid.JointGrid at 0x15e39b66510>"
      ]
     },
     "execution_count": 30,
     "metadata": {},
     "output_type": "execute_result"
    },
    {
     "data": {
      "image/png": "[encoded data removed]",
      "text/plain": [
       "<Figure size 600x600 with 3 Axes>"
      ]
     },
     "metadata": {},
     "output_type": "display_data"
    }
   ],
   "source": [
    "sns.jointplot(x='Dial up', y='Banda ancha fija', marginal_kws=dict(bins=15, rug=True), data=df)"
   ]
  },
  {
   "attachments": {},
   "cell_type": "markdown",
   "metadata": {},
   "source": [
    "_Banda ancha crece en los ultimos tiempos\n",
    "\n",
    "__Dial up disminuye"
   ]
  },
  {
   "cell_type": "code",
   "execution_count": 25,
   "metadata": {},
   "outputs": [
    {
     "name": "stderr",
     "output_type": "stream",
     "text": [
      "C:\\Users\\ROG BY NG\\AppData\\Local\\Temp\\ipykernel_18652\\3702820302.py:1: UserWarning: \n",
      "\n",
      "`distplot` is a deprecated function and will be removed in seaborn v0.14.0.\n",
      "\n",
      "Please adapt your code to use either `displot` (a figure-level function with\n",
      "similar flexibility) or `histplot` (an axes-level function for histograms).\n",
      "\n",
      "For a guide to updating your code to use the new functions, please see\n",
      "https://gist.github.com/mwaskom/de44147ed2974457ad6372750bbe5751\n",
      "\n",
      "  sns.distplot(df['Banda ancha fija'], hist=True, kde=True, rug=True)\n"
     ]
    },
    {
     "data": {
      "text/plain": [
       "<Axes: xlabel='Banda ancha fija', ylabel='Density'>"
      ]
     },
     "execution_count": 25,
     "metadata": {},
     "output_type": "execute_result"
    },
    {
     "data": {
      "image/png": "[encoded data removed]",
      "text/plain": [
       "<Figure size 640x480 with 1 Axes>"
      ]
     },
     "metadata": {},
     "output_type": "display_data"
    }
   ],
   "source": [
    "sns.distplot(df['Dial up'], hist=True, kde=True, rug=True)"
   ]
  },
  {
   "attachments": {},
   "cell_type": "markdown",
   "metadata": {},
   "source": [
    "Banda ancha comenzo en aumento los primeros 3/4 y ahora esta hubo un descenso.\n",
    "\n",
    "Densidad media"
   ]
  },
  {
   "cell_type": "code",
   "execution_count": 22,
   "metadata": {},
   "outputs": [
    {
     "name": "stderr",
     "output_type": "stream",
     "text": [
      "C:\\Users\\ROG BY NG\\AppData\\Local\\Temp\\ipykernel_18652\\74097443.py:1: UserWarning: \n",
      "\n",
      "`distplot` is a deprecated function and will be removed in seaborn v0.14.0.\n",
      "\n",
      "Please adapt your code to use either `displot` (a figure-level function with\n",
      "similar flexibility) or `histplot` (an axes-level function for histograms).\n",
      "\n",
      "For a guide to updating your code to use the new functions, please see\n",
      "https://gist.github.com/mwaskom/de44147ed2974457ad6372750bbe5751\n",
      "\n",
      "  sns.distplot(df['Dial up'], hist=True, kde=True, rug=True)\n"
     ]
    },
    {
     "data": {
      "text/plain": [
       "<Axes: xlabel='Dial up', ylabel='Density'>"
      ]
     },
     "execution_count": 22,
     "metadata": {},
     "output_type": "execute_result"
    },
    {
     "data": {
      "image/png": "[encoded data removed]",
      "text/plain": [
       "<Figure size 640x480 with 1 Axes>"
      ]
     },
     "metadata": {},
     "output_type": "display_data"
    }
   ],
   "source": [
    "sns.distplot(df['Dial up'], hist=True, kde=True, rug=True)"
   ]
  },
  {
   "attachments": {},
   "cell_type": "markdown",
   "metadata": {},
   "source": [
    "Diaup up  alta densidad,  valores en valores de 10 a 40\n"
   ]
  }
 ],
 "metadata": {
  "kernelspec": {
   "display_name": "Python 3",
   "language": "python",
   "name": "python3"
  },
  "language_info": {
   "codemirror_mode": {
    "name": "ipython",
    "version": 3
   },
   "file_extension": ".py",
   "mimetype": "text/x-python",
   "name": "python",
   "nbconvert_exporter": "python",
   "pygments_lexer": "ipython3",
   "version": "3.11.4"
  },
  "orig_nbformat": 4
 },
 "nbformat": 4,
 "nbformat_minor": 2
}
